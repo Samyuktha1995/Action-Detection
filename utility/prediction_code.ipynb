{
  "nbformat": 4,
  "nbformat_minor": 0,
  "metadata": {
    "colab": {
      "name": "prediction code.ipynb",
      "provenance": [],
      "collapsed_sections": []
    },
    "kernelspec": {
      "name": "python3",
      "display_name": "Python 3"
    },
    "accelerator": "GPU"
  },
  "cells": [
    {
      "cell_type": "code",
      "metadata": {
        "id": "VRRPS6AiOJER",
        "colab_type": "code",
        "colab": {}
      },
      "source": [
        "import os\n",
        "import numpy as np\n",
        "import torch\n",
        "import torch.nn as nn\n",
        "import torch.nn.functional as F\n",
        "import torchvision.models as models\n",
        "import torchvision.transforms as transforms\n",
        "import torch.utils.data as data\n",
        "import torchvision\n",
        "from torch.autograd import Variable\n",
        "import matplotlib.pyplot as plt\n",
        "from utility.models import *\n",
        "from utility.data_loader import *\n",
        "from sklearn.model_selection import train_test_split\n",
        "from sklearn.preprocessing import OneHotEncoder, LabelEncoder\n",
        "from sklearn.metrics import accuracy_score\n",
        "import pickle\n",
        "import json"
      ],
      "execution_count": 0,
      "outputs": []
    },
    {
      "cell_type": "code",
      "metadata": {
        "id": "wU832YpiOSdB",
        "colab_type": "code",
        "outputId": "8ededd1b-e377-46a7-b622-5799efe496d5",
        "colab": {
          "base_uri": "https://localhost:8080/",
          "height": 124
        }
      },
      "source": [
        "from google.colab import drive\n",
        "drive.mount('/content/gdrive/')"
      ],
      "execution_count": 2,
      "outputs": [
        {
          "output_type": "stream",
          "text": [
            "Go to this URL in a browser: https://accounts.google.com/o/oauth2/auth?client_id=947318989803-6bn6qk8qdgf4n4g3pfee6491hc0brc4i.apps.googleusercontent.com&redirect_uri=urn%3aietf%3awg%3aoauth%3a2.0%3aoob&response_type=code&scope=email%20https%3a%2f%2fwww.googleapis.com%2fauth%2fdocs.test%20https%3a%2f%2fwww.googleapis.com%2fauth%2fdrive%20https%3a%2f%2fwww.googleapis.com%2fauth%2fdrive.photos.readonly%20https%3a%2f%2fwww.googleapis.com%2fauth%2fpeopleapi.readonly\n",
            "\n",
            "Enter your authorization code:\n",
            "··········\n",
            "Mounted at /content/gdrive/\n"
          ],
          "name": "stdout"
        }
      ]
    },
    {
      "cell_type": "code",
      "metadata": {
        "id": "znZQX3bbaOoN",
        "colab_type": "code",
        "colab": {}
      },
      "source": [
        "data_path = \"/content/gdrive/My Drive/HDMI_Data/Data_image/\"    \n",
        "save_model_path = \"/content/gdrive/My Drive/HDMI_Data/Model/\"\n",
        "test_video_path = \"/content/gdrive/My Drive/HDMI_Data/testVideo_image/testSample3\""
      ],
      "execution_count": 0,
      "outputs": []
    },
    {
      "cell_type": "code",
      "metadata": {
        "id": "lri8g1EYOU5D",
        "colab_type": "code",
        "colab": {}
      },
      "source": [
        "CNN_fc_hidden1, CNN_fc_hidden2 = 1024, 768\n",
        "CNN_embed_dim = 512   \n",
        "res_size = 224        \n",
        "dropout_p = 0.3       \n",
        "\n",
        "RNN_hidden_layers = 3\n",
        "RNN_hidden_nodes = 512\n",
        "RNN_FC_dim = 256\n",
        "\n",
        "k = 2           \n",
        "epochs = 40        \n",
        "batch_size = 40  \n",
        "learning_rate = 1e-3\n",
        "log_interval = 10   \n",
        "\n",
        "begin_frame, end_frame, skip_frame = 1, 8, 1"
      ],
      "execution_count": 0,
      "outputs": []
    },
    {
      "cell_type": "code",
      "metadata": {
        "id": "F7vogC6waiEQ",
        "colab_type": "code",
        "outputId": "b245c675-3dc2-4935-e59d-5c401061fdce",
        "colab": {
          "base_uri": "https://localhost:8080/",
          "height": 52
        }
      },
      "source": [
        "action_names = []\n",
        "action_names.append('Not Walking')\n",
        "action_names.append('Walking')\n",
        "use_cuda = torch.cuda.is_available()                   \n",
        "device = torch.device(\"cuda\" if use_cuda else \"cpu\")   \n",
        "params = {'batch_size': batch_size, 'shuffle': True, 'num_workers': 4, 'pin_memory': True} if use_cuda else {}\n",
        "le = LabelEncoder()\n",
        "le.fit(action_names)\n",
        "list(le.classes_)\n",
        "action_category = le.transform(action_names).reshape(-1, 1)\n",
        "enc = OneHotEncoder()\n",
        "enc.fit(action_category)"
      ],
      "execution_count": 14,
      "outputs": [
        {
          "output_type": "execute_result",
          "data": {
            "text/plain": [
              "OneHotEncoder(categories='auto', drop=None, dtype=<class 'numpy.float64'>,\n",
              "              handle_unknown='error', sparse=True)"
            ]
          },
          "metadata": {
            "tags": []
          },
          "execution_count": 14
        }
      ]
    },
    {
      "cell_type": "code",
      "metadata": {
        "id": "CPr5kCSAa5Lh",
        "colab_type": "code",
        "colab": {}
      },
      "source": [
        "testActions = []\n",
        "fnames = os.listdir(test_video_path)\n",
        "all_names = []\n",
        "for f in fnames:\n",
        "    all_names.append(f)\n",
        "    if 'walk' in f:\n",
        "        testActions.append(\"Walking\")\n",
        "    else:\n",
        "        testActions.append(\"Not Walking\")           "
      ],
      "execution_count": 0,
      "outputs": []
    },
    {
      "cell_type": "code",
      "metadata": {
        "id": "5cDETDs2aVbN",
        "colab_type": "code",
        "colab": {}
      },
      "source": [
        "all_X_list = all_names             \n",
        "all_y_list = labels2cat(le, testActions)    \n",
        "use_cuda = torch.cuda.is_available()                   \n",
        "device = torch.device(\"cuda\" if use_cuda else \"cpu\") \n",
        "params = {'batch_size': batch_size, 'shuffle': True, 'num_workers': 4, 'pin_memory': True} if use_cuda else {}\n",
        "transform = transforms.Compose([transforms.Resize([res_size, res_size]),\n",
        "                                transforms.ToTensor(),\n",
        "                                transforms.Normalize(mean=[0.485, 0.456, 0.406], std=[0.229, 0.224, 0.225])])\n",
        "selected_frames = np.arange(begin_frame, end_frame, skip_frame).tolist()"
      ],
      "execution_count": 0,
      "outputs": []
    },
    {
      "cell_type": "code",
      "metadata": {
        "id": "tJY_HTzhaocp",
        "colab_type": "code",
        "colab": {}
      },
      "source": [
        "all_data_params = {'batch_size': batch_size, 'shuffle': False, 'num_workers': 4, 'pin_memory': True} if use_cuda else {}\n",
        "all_data_loader = data.DataLoader(Dataset_CRNN(test_video_path, all_X_list, all_y_list, selected_frames, transform=transform), **all_data_params)"
      ],
      "execution_count": 0,
      "outputs": []
    },
    {
      "cell_type": "code",
      "metadata": {
        "id": "eHb_aP6SasKK",
        "colab_type": "code",
        "outputId": "1f7a53bd-f565-4167-9da5-bf1521cd9828",
        "colab": {
          "base_uri": "https://localhost:8080/",
          "height": 35
        }
      },
      "source": [
        "cnn_encoder = ResCNNEncoder(fc_hidden1=CNN_fc_hidden1, fc_hidden2=CNN_fc_hidden2, drop_p=dropout_p, CNN_embed_dim=CNN_embed_dim).to(device)\n",
        "rnn_decoder = DecoderRNN(CNN_embed_dim=CNN_embed_dim, h_RNN_layers=RNN_hidden_layers, h_RNN=RNN_hidden_nodes, \n",
        "                         h_FC_dim=RNN_FC_dim, drop_p=dropout_p, num_classes=k).to(device)\n",
        "\n",
        "cnn_encoder.load_state_dict(torch.load(os.path.join(save_model_path, 'cnn_encoder_epoch25.pth')))\n",
        "rnn_decoder.load_state_dict(torch.load(os.path.join(save_model_path, 'rnn_decoder_epoch25.pth')))\n",
        "print('CRNN model reloaded!')"
      ],
      "execution_count": 19,
      "outputs": [
        {
          "output_type": "stream",
          "text": [
            "CRNN model reloaded!\n"
          ],
          "name": "stdout"
        }
      ]
    },
    {
      "cell_type": "code",
      "metadata": {
        "id": "JDMUXZ9mauwv",
        "colab_type": "code",
        "outputId": "c78d1572-30d3-4bdf-82c1-e141762660ff",
        "colab": {
          "base_uri": "https://localhost:8080/",
          "height": 87
        }
      },
      "source": [
        "print('Predicting all {} videos:'.format(len(all_data_loader.dataset)))\n",
        "all_y_pred = CRNN_final_prediction([cnn_encoder, rnn_decoder], device, all_data_loader)"
      ],
      "execution_count": 29,
      "outputs": [
        {
          "output_type": "stream",
          "text": [
            "\n",
            "  0%|          | 0/1 [00:00<?, ?it/s]\u001b[A"
          ],
          "name": "stderr"
        },
        {
          "output_type": "stream",
          "text": [
            "Predicting all 8 videos:\n"
          ],
          "name": "stdout"
        },
        {
          "output_type": "stream",
          "text": [
            "\n",
            "100%|██████████| 1/1 [00:01<00:00,  1.62s/it]\n"
          ],
          "name": "stderr"
        }
      ]
    },
    {
      "cell_type": "code",
      "metadata": {
        "id": "OhzmVXZ4mEbp",
        "colab_type": "code",
        "outputId": "c8e15a1f-fcf8-4c86-9196-eb69cd3b42c7",
        "colab": {
          "base_uri": "https://localhost:8080/",
          "height": 279
        }
      },
      "source": [
        "x = []\n",
        "for i in range(len(all_y_pred)):\n",
        "  x.append(i+1)\n",
        "plt.plot(x, pred) \n",
        "plt.xlabel('video component')\n",
        "plt.ylabel('label')\n",
        "plt.legend(['prediction label'], loc=\"upper left\")\n",
        "plt.savefig('/prediction', dpi=600)"
      ],
      "execution_count": 30,
      "outputs": [
        {
          "output_type": "display_data",
          "data": {
            "image/png": "[encoded data removed]",
            "text/plain": [
              "<Figure size 432x288 with 1 Axes>"
            ]
          },
          "metadata": {
            "tags": [],
            "needs_background": "light"
          }
        }
      ]
    },
    {
      "cell_type": "code",
      "metadata": {
        "id": "DnIjWUF15XA7",
        "colab_type": "code",
        "colab": {}
      },
      "source": [
        "def get_json(prediction):\n",
        "  res = {}\n",
        "  for i in range(len(prediction)):\n",
        "    res[i] = prediction[i]\n",
        "  result = {}\n",
        "  result['walk'] = res\n",
        "  with open('result.json', 'w') as json_file:\n",
        "    json.dump(result, json_file)"
      ],
      "execution_count": 0,
      "outputs": []
    }
  ]
}